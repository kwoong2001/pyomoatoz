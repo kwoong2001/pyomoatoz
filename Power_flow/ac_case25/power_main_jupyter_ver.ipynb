{
 "cells": [
  {
   "cell_type": "code",
   "execution_count": 2,
   "id": "e34fe81f",
   "metadata": {},
   "outputs": [
    {
     "name": "stdout",
     "output_type": "stream",
     "text": [
      "Main path:c:\\Users\\Woong\\Desktop\\Workfolder\\Pyomo\\For_git\\Power_flow\\ac_case25\n",
      "Input data path:c:\\Users\\Woong\\Desktop\\Workfolder\\Pyomo\\For_git\\Power_flow\\ac_case25/InputData/\n",
      "Precalculation data path:c:\\Users\\Woong\\Desktop\\Workfolder\\Pyomo\\For_git\\Power_flow\\ac_case25/PreCalData/\n"
     ]
    }
   ],
   "source": [
    "\"\"\"\n",
    "AC Power flow - 25 bus case V1 (25.04.11)\n",
    "Readme_ac_powerflow.md 참고\n",
    "\"\"\"\n",
    "\n",
    "\"\"\"\"\n",
    "A. 파라미터 및 데이터 입력\n",
    "\"\"\"\n",
    "case_name = 'ac_case25'\n",
    "case_file_name = 'ac_case25.xlsx'\n",
    "\n",
    "\"\"\" Call modules \"\"\"\n",
    "import os\n",
    "import pandas as pd\n",
    "import numpy as np\n",
    "import pyomo.environ as pyo \n",
    "import math\n",
    "\n",
    "\"\"\"\"Packages\"\"\"\n",
    "from Packages.Create_Y_bus import create_Y_bus\n",
    "from Packages.Create_set_n_params import create_set_and_params\n",
    "\n",
    "\"\"\"\"Path\"\"\"\n",
    "Main_path = os.getcwd()\n",
    "inputdata_path = Main_path + '/InputData/'\n",
    "pre_caldata_path = Main_path + '/PreCalData/' # Y행렬, 전압, 유효전력 PU 초기값 등 조류계산 수행 전 계산값들이 저장되는 경로\n",
    "\n",
    "print('Main path:'+Main_path)\n",
    "print('Input data path:'+inputdata_path)\n",
    "print('Precalculation data path:'+pre_caldata_path)"
   ]
  },
  {
   "cell_type": "code",
   "execution_count": 3,
   "id": "4bdca05f",
   "metadata": {},
   "outputs": [
    {
     "data": {
      "text/html": [
       "<div>\n",
       "<style scoped>\n",
       "    .dataframe tbody tr th:only-of-type {\n",
       "        vertical-align: middle;\n",
       "    }\n",
       "\n",
       "    .dataframe tbody tr th {\n",
       "        vertical-align: top;\n",
       "    }\n",
       "\n",
       "    .dataframe thead th {\n",
       "        text-align: right;\n",
       "    }\n",
       "</style>\n",
       "<table border=\"1\" class=\"dataframe\">\n",
       "  <thead>\n",
       "    <tr style=\"text-align: right;\">\n",
       "      <th></th>\n",
       "      <th>Bus</th>\n",
       "      <th>Type</th>\n",
       "      <th>Pload (MW)</th>\n",
       "      <th>Qload (MVAR)</th>\n",
       "      <th>area</th>\n",
       "      <th>Vm (pu)</th>\n",
       "      <th>Va (degree)</th>\n",
       "      <th>maxVm</th>\n",
       "      <th>minVm</th>\n",
       "    </tr>\n",
       "  </thead>\n",
       "  <tbody>\n",
       "    <tr>\n",
       "      <th>0</th>\n",
       "      <td>1</td>\n",
       "      <td>PV</td>\n",
       "      <td>108.0</td>\n",
       "      <td>22.00</td>\n",
       "      <td>1</td>\n",
       "      <td>1</td>\n",
       "      <td>0</td>\n",
       "      <td>1.05</td>\n",
       "      <td>0.95</td>\n",
       "    </tr>\n",
       "    <tr>\n",
       "      <th>1</th>\n",
       "      <td>2</td>\n",
       "      <td>PV</td>\n",
       "      <td>97.0</td>\n",
       "      <td>20.00</td>\n",
       "      <td>1</td>\n",
       "      <td>1</td>\n",
       "      <td>0</td>\n",
       "      <td>1.05</td>\n",
       "      <td>0.95</td>\n",
       "    </tr>\n",
       "    <tr>\n",
       "      <th>2</th>\n",
       "      <td>3</td>\n",
       "      <td>PQ</td>\n",
       "      <td>207.0</td>\n",
       "      <td>42.55</td>\n",
       "      <td>1</td>\n",
       "      <td>1</td>\n",
       "      <td>0</td>\n",
       "      <td>1.05</td>\n",
       "      <td>0.95</td>\n",
       "    </tr>\n",
       "  </tbody>\n",
       "</table>\n",
       "</div>"
      ],
      "text/plain": [
       "   Bus Type  Pload (MW)  Qload (MVAR)  area  Vm (pu)  Va (degree)  maxVm  \\\n",
       "0    1   PV       108.0         22.00     1        1            0   1.05   \n",
       "1    2   PV        97.0         20.00     1        1            0   1.05   \n",
       "2    3   PQ       207.0         42.55     1        1            0   1.05   \n",
       "\n",
       "   minVm  \n",
       "0   0.95  \n",
       "1   0.95  \n",
       "2   0.95  "
      ]
     },
     "execution_count": 3,
     "metadata": {},
     "output_type": "execute_result"
    }
   ],
   "source": [
    "\"\"\"\"Data from excel\"\"\"\n",
    "power_system_data = pd.ExcelFile(inputdata_path + case_file_name)\n",
    "\n",
    "#power_system_data.sheet_names 참고\n",
    "Bus_data = pd.read_excel(power_system_data,'bus')\n",
    "Branch_data = pd.read_excel(power_system_data,'branch')\n",
    "Transformer_data = pd.read_excel(power_system_data,'transformer')\n",
    "Gen_data = pd.read_excel(power_system_data,'generator')\n",
    "Param_data = pd.read_excel(power_system_data,'param')\n",
    "\n",
    "# 데이터 입력 결과\n",
    "Bus_data.head(3)"
   ]
  },
  {
   "cell_type": "code",
   "execution_count": 4,
   "id": "5c67548d",
   "metadata": {},
   "outputs": [
    {
     "data": {
      "text/html": [
       "<div>\n",
       "<style scoped>\n",
       "    .dataframe tbody tr th:only-of-type {\n",
       "        vertical-align: middle;\n",
       "    }\n",
       "\n",
       "    .dataframe tbody tr th {\n",
       "        vertical-align: top;\n",
       "    }\n",
       "\n",
       "    .dataframe thead th {\n",
       "        text-align: right;\n",
       "    }\n",
       "</style>\n",
       "<table border=\"1\" class=\"dataframe\">\n",
       "  <thead>\n",
       "    <tr style=\"text-align: right;\">\n",
       "      <th></th>\n",
       "      <th>From</th>\n",
       "      <th>To</th>\n",
       "      <th>R (pu)</th>\n",
       "      <th>X (pu)</th>\n",
       "      <th>B (pu)</th>\n",
       "    </tr>\n",
       "  </thead>\n",
       "  <tbody>\n",
       "    <tr>\n",
       "      <th>0</th>\n",
       "      <td>1</td>\n",
       "      <td>2</td>\n",
       "      <td>0.0026</td>\n",
       "      <td>0.0139</td>\n",
       "      <td>0.4611</td>\n",
       "    </tr>\n",
       "    <tr>\n",
       "      <th>1</th>\n",
       "      <td>1</td>\n",
       "      <td>3</td>\n",
       "      <td>0.0546</td>\n",
       "      <td>0.2112</td>\n",
       "      <td>0.0572</td>\n",
       "    </tr>\n",
       "    <tr>\n",
       "      <th>2</th>\n",
       "      <td>1</td>\n",
       "      <td>5</td>\n",
       "      <td>0.0218</td>\n",
       "      <td>0.0845</td>\n",
       "      <td>0.0229</td>\n",
       "    </tr>\n",
       "  </tbody>\n",
       "</table>\n",
       "</div>"
      ],
      "text/plain": [
       "   From  To  R (pu)  X (pu)  B (pu)\n",
       "0     1   2  0.0026  0.0139  0.4611\n",
       "1     1   3  0.0546  0.2112  0.0572\n",
       "2     1   5  0.0218  0.0845  0.0229"
      ]
     },
     "execution_count": 4,
     "metadata": {},
     "output_type": "execute_result"
    }
   ],
   "source": [
    "Branch_data.head(3)"
   ]
  },
  {
   "cell_type": "code",
   "execution_count": 5,
   "id": "505f29f0",
   "metadata": {},
   "outputs": [
    {
     "data": {
      "text/html": [
       "<div>\n",
       "<style scoped>\n",
       "    .dataframe tbody tr th:only-of-type {\n",
       "        vertical-align: middle;\n",
       "    }\n",
       "\n",
       "    .dataframe tbody tr th {\n",
       "        vertical-align: top;\n",
       "    }\n",
       "\n",
       "    .dataframe thead th {\n",
       "        text-align: right;\n",
       "    }\n",
       "</style>\n",
       "<table border=\"1\" class=\"dataframe\">\n",
       "  <thead>\n",
       "    <tr style=\"text-align: right;\">\n",
       "      <th></th>\n",
       "      <th>From</th>\n",
       "      <th>To</th>\n",
       "      <th>Tap</th>\n",
       "    </tr>\n",
       "  </thead>\n",
       "  <tbody>\n",
       "    <tr>\n",
       "      <th>0</th>\n",
       "      <td>3</td>\n",
       "      <td>24</td>\n",
       "      <td>1.03</td>\n",
       "    </tr>\n",
       "    <tr>\n",
       "      <th>1</th>\n",
       "      <td>9</td>\n",
       "      <td>11</td>\n",
       "      <td>1.03</td>\n",
       "    </tr>\n",
       "    <tr>\n",
       "      <th>2</th>\n",
       "      <td>9</td>\n",
       "      <td>12</td>\n",
       "      <td>1.03</td>\n",
       "    </tr>\n",
       "  </tbody>\n",
       "</table>\n",
       "</div>"
      ],
      "text/plain": [
       "   From  To   Tap\n",
       "0     3  24  1.03\n",
       "1     9  11  1.03\n",
       "2     9  12  1.03"
      ]
     },
     "execution_count": 5,
     "metadata": {},
     "output_type": "execute_result"
    }
   ],
   "source": [
    "\n",
    "Transformer_data.head(3)"
   ]
  },
  {
   "cell_type": "code",
   "execution_count": 6,
   "id": "5eb00fec",
   "metadata": {},
   "outputs": [
    {
     "data": {
      "text/html": [
       "<div>\n",
       "<style scoped>\n",
       "    .dataframe tbody tr th:only-of-type {\n",
       "        vertical-align: middle;\n",
       "    }\n",
       "\n",
       "    .dataframe tbody tr th {\n",
       "        vertical-align: top;\n",
       "    }\n",
       "\n",
       "    .dataframe thead th {\n",
       "        text-align: right;\n",
       "    }\n",
       "</style>\n",
       "<table border=\"1\" class=\"dataframe\">\n",
       "  <thead>\n",
       "    <tr style=\"text-align: right;\">\n",
       "      <th></th>\n",
       "      <th>Id</th>\n",
       "      <th>Bus</th>\n",
       "      <th>PG (MW)</th>\n",
       "      <th>QG (MVAR)</th>\n",
       "      <th>QMAX (MVAR)</th>\n",
       "      <th>QMIN (MVAR)</th>\n",
       "      <th>Voltage setpoint (pu)</th>\n",
       "      <th>MBASE (MW)</th>\n",
       "      <th>STATUS</th>\n",
       "    </tr>\n",
       "  </thead>\n",
       "  <tbody>\n",
       "    <tr>\n",
       "      <th>0</th>\n",
       "      <td>1</td>\n",
       "      <td>1</td>\n",
       "      <td>10.0</td>\n",
       "      <td>0.0</td>\n",
       "      <td>10</td>\n",
       "      <td>0</td>\n",
       "      <td>1.035</td>\n",
       "      <td>100</td>\n",
       "      <td>1</td>\n",
       "    </tr>\n",
       "    <tr>\n",
       "      <th>1</th>\n",
       "      <td>2</td>\n",
       "      <td>1</td>\n",
       "      <td>10.0</td>\n",
       "      <td>0.0</td>\n",
       "      <td>10</td>\n",
       "      <td>0</td>\n",
       "      <td>1.035</td>\n",
       "      <td>100</td>\n",
       "      <td>1</td>\n",
       "    </tr>\n",
       "    <tr>\n",
       "      <th>2</th>\n",
       "      <td>3</td>\n",
       "      <td>1</td>\n",
       "      <td>76.0</td>\n",
       "      <td>0.0</td>\n",
       "      <td>30</td>\n",
       "      <td>-25</td>\n",
       "      <td>1.035</td>\n",
       "      <td>100</td>\n",
       "      <td>1</td>\n",
       "    </tr>\n",
       "  </tbody>\n",
       "</table>\n",
       "</div>"
      ],
      "text/plain": [
       "   Id  Bus  PG (MW)  QG (MVAR)  QMAX (MVAR)  QMIN (MVAR)  \\\n",
       "0   1    1     10.0        0.0           10            0   \n",
       "1   2    1     10.0        0.0           10            0   \n",
       "2   3    1     76.0        0.0           30          -25   \n",
       "\n",
       "   Voltage setpoint (pu)  MBASE (MW)  STATUS  \n",
       "0                  1.035         100       1  \n",
       "1                  1.035         100       1  \n",
       "2                  1.035         100       1  "
      ]
     },
     "execution_count": 6,
     "metadata": {},
     "output_type": "execute_result"
    }
   ],
   "source": [
    "Gen_data.head(3)"
   ]
  },
  {
   "cell_type": "code",
   "execution_count": 7,
   "id": "906053f6",
   "metadata": {},
   "outputs": [
    {
     "data": {
      "text/html": [
       "<div>\n",
       "<style scoped>\n",
       "    .dataframe tbody tr th:only-of-type {\n",
       "        vertical-align: middle;\n",
       "    }\n",
       "\n",
       "    .dataframe tbody tr th {\n",
       "        vertical-align: top;\n",
       "    }\n",
       "\n",
       "    .dataframe thead th {\n",
       "        text-align: right;\n",
       "    }\n",
       "</style>\n",
       "<table border=\"1\" class=\"dataframe\">\n",
       "  <thead>\n",
       "    <tr style=\"text-align: right;\">\n",
       "      <th></th>\n",
       "      <th>sbase (MVA)</th>\n",
       "      <th>100</th>\n",
       "    </tr>\n",
       "  </thead>\n",
       "  <tbody>\n",
       "  </tbody>\n",
       "</table>\n",
       "</div>"
      ],
      "text/plain": [
       "Empty DataFrame\n",
       "Columns: [sbase (MVA), 100]\n",
       "Index: []"
      ]
     },
     "execution_count": 7,
     "metadata": {},
     "output_type": "execute_result"
    }
   ],
   "source": [
    "Param_data.head(3)"
   ]
  },
  {
   "cell_type": "code",
   "execution_count": null,
   "id": "00c38745",
   "metadata": {},
   "outputs": [],
   "source": [
    "\"\"\"\"\n",
    "B. 데이터 전처리 (최적화 수행에 맞는 데이터 만들기)\n",
    "\"\"\"\n",
    "\n",
    "\"\"\" 1. 집합 만들기(Set) \"\"\"\n",
    "create_set_and_params(np,pd,pre_caldata_path,Bus_data['Bus'])\n",
    "\n",
    "\"\"\" 2. Y 행렬 생성 \"\"\"\n",
    "#[Bus_i, Bus_j, Bus_G, Bus_B]를 열로 갖는 Y_bus.csv 파일 '/PreCalData/'폴더에 생성하는 것 목표\n",
    "create_Y_bus(np,pd,pre_caldata_path,Bus_data['Bus'],Branch_data,Transformer_data)\n",
    "\n",
    "\"\"\" 3. 모선별 아는 값 입력(전압의 크기, 위상, 유효 및 무효전력) \"\"\"\n"
   ]
  },
  {
   "cell_type": "code",
   "execution_count": null,
   "id": "569b168a",
   "metadata": {},
   "outputs": [
    {
     "data": {
      "text/plain": [
       "' 목적함수 및 제약조건 생성'"
      ]
     },
     "execution_count": 17,
     "metadata": {},
     "output_type": "execute_result"
    }
   ],
   "source": [
    "\"\"\"\"\n",
    "C. 최적화 수행\n",
    "\"\"\"\n",
    "\n",
    "\"\"\" Pyomo INPUTS \"\"\"\n",
    "solver = 'ipopt' # Select solver\n",
    "\n",
    "\"\"\" Pyomo Config \"\"\"\n",
    "# Create the abstract model - 시그마로 표현할 수 있는 모델\n",
    "model = pyo.AbstractModel()\n",
    "\n",
    "## Loaded from csv in ../PreCalData/\n",
    "# Define set\n",
    "model.Buses = pyo.Set(dimen=1)\n",
    "\n",
    "# Define parameters\n",
    "model.Bus_G = pyo.Param(model.Buses,model.Buses,within=pyo.Any) # Network conductivity matrix\n",
    "model.Bus_B = pyo.Param(model.Buses,model.Buses,within=pyo.Any) # Network susceptance matrix\n",
    "\n",
    "\n",
    "\"\"\" 목적함수 및 제약조건 생성\"\"\""
   ]
  },
  {
   "cell_type": "code",
   "execution_count": null,
   "id": "6252df50",
   "metadata": {},
   "outputs": [],
   "source": [
    "\"\"\"\n",
    "D. 결과 출력\n",
    "\"\"\"\n"
   ]
  }
 ],
 "metadata": {
  "kernelspec": {
   "display_name": "py39",
   "language": "python",
   "name": "python3"
  },
  "language_info": {
   "codemirror_mode": {
    "name": "ipython",
    "version": 3
   },
   "file_extension": ".py",
   "mimetype": "text/x-python",
   "name": "python",
   "nbconvert_exporter": "python",
   "pygments_lexer": "ipython3",
   "version": "3.9.21"
  }
 },
 "nbformat": 4,
 "nbformat_minor": 5
}
