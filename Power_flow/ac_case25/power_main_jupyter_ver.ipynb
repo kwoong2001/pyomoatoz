{
 "cells": [
  {
   "cell_type": "code",
   "execution_count": 7,
   "id": "e34fe81f",
   "metadata": {},
   "outputs": [
    {
     "name": "stdout",
     "output_type": "stream",
     "text": [
      "Main path:c:\\Users\\Woong\\Desktop\\Workfolder\\Pyomo\\For_git\\Power_flow\\ac_case25\n",
      "Input data path:c:\\Users\\Woong\\Desktop\\Workfolder\\Pyomo\\For_git\\Power_flow\\ac_case25/InputData/\n",
      "Precalculation data path:c:\\Users\\Woong\\Desktop\\Workfolder\\Pyomo\\For_git\\Power_flow\\ac_case25/PreCalData/\n"
     ]
    }
   ],
   "source": [
    "\"\"\"\n",
    "AC Power flow - 25 bus case V1 (25.04.11)\n",
    "Readme_ac_powerflow.md 참고\n",
    "\"\"\"\n",
    "\n",
    "\"\"\"\"\n",
    "A. 파라미터 및 데이터 입력\n",
    "\"\"\"\n",
    "case_name = 'ac_case25'\n",
    "case_file_name = 'ac_case25.xlsx'\n",
    "\n",
    "\"\"\" Call modules \"\"\"\n",
    "import os\n",
    "import pandas as pd\n",
    "import numpy as np\n",
    "import pyomo.environ as pyo \n",
    "import math\n",
    "\n",
    "\"\"\"\"Packages\"\"\"\n",
    "from Packages.Create_Y_bus import create_Y_bus\n",
    "from Packages.Create_set_n_params import create_set_and_params\n",
    "\n",
    "\"\"\"\"Path\"\"\"\n",
    "Main_path = os.getcwd()\n",
    "inputdata_path = Main_path + '/InputData/'\n",
    "pre_caldata_path = Main_path + '/PreCalData/' # Y행렬, 전압, 유효전력 PU 초기값 등 조류계산 수행 전 계산값들이 저장되는 경로\n",
    "\n",
    "print('Main path:'+Main_path)\n",
    "print('Input data path:'+inputdata_path)\n",
    "print('Precalculation data path:'+pre_caldata_path)"
   ]
  },
  {
   "cell_type": "code",
   "execution_count": null,
   "id": "4bdca05f",
   "metadata": {},
   "outputs": [
    {
     "data": {
      "text/html": [
       "<div>\n",
       "<style scoped>\n",
       "    .dataframe tbody tr th:only-of-type {\n",
       "        vertical-align: middle;\n",
       "    }\n",
       "\n",
       "    .dataframe tbody tr th {\n",
       "        vertical-align: top;\n",
       "    }\n",
       "\n",
       "    .dataframe thead th {\n",
       "        text-align: right;\n",
       "    }\n",
       "</style>\n",
       "<table border=\"1\" class=\"dataframe\">\n",
       "  <thead>\n",
       "    <tr style=\"text-align: right;\">\n",
       "      <th></th>\n",
       "      <th>sbase (MVA)</th>\n",
       "      <th>100</th>\n",
       "    </tr>\n",
       "  </thead>\n",
       "  <tbody>\n",
       "  </tbody>\n",
       "</table>\n",
       "</div>"
      ],
      "text/plain": [
       "Empty DataFrame\n",
       "Columns: [sbase (MVA), 100]\n",
       "Index: []"
      ]
     },
     "execution_count": 15,
     "metadata": {},
     "output_type": "execute_result"
    }
   ],
   "source": [
    "\"\"\"\"Data from excel\"\"\"\n",
    "power_system_data = pd.ExcelFile(inputdata_path + case_file_name)\n",
    "\n",
    "#power_system_data.sheet_names 참고\n",
    "Bus_data = pd.read_excel(power_system_data,'bus')\n",
    "Branch_data = pd.read_excel(power_system_data,'branch')\n",
    "Transformer_data = pd.read_excel(power_system_data,'transformer')\n",
    "Gen_data = pd.read_excel(power_system_data,'generator')\n",
    "Param_data = pd.read_excel(power_system_data,'param')\n",
    "\n",
    "# 데이터 입력 결과\n",
    "Bus_data.head(3)\n",
    "Branch_data.head(3)\n",
    "Transformer_data.head(3)\n",
    "Gen_data.head(3)\n",
    "Param_data.head(3)"
   ]
  },
  {
   "cell_type": "code",
   "execution_count": null,
   "id": "00c38745",
   "metadata": {},
   "outputs": [],
   "source": [
    "\"\"\"\"\n",
    "B. 데이터 전처리 (최적화 수행에 맞는 데이터 만들기)\n",
    "\"\"\"\n",
    "\n",
    "\"\"\" 1. 집합 만들기(Set) \"\"\"\n",
    "create_set_and_params(np,pd,pre_caldata_path,Bus_data['Bus'])\n",
    "\n",
    "\"\"\" 2. Y 행렬 생성 \"\"\"\n",
    "#[Bus_i, Bus_j, Bus_G, Bus_B]를 열로 갖는 Y_bus.csv 파일 '/PreCalData/'폴더에 생성하는 것 목표\n",
    "create_Y_bus(np,pd,pre_caldata_path,Bus_data['Bus'],Branch_data,Transformer_data)\n",
    "\n",
    "\"\"\" 3. 모선별 아는 값 입력(전압의 크기, 위상, 유효 및 무효전력) \"\"\""
   ]
  },
  {
   "cell_type": "code",
   "execution_count": 17,
   "id": "569b168a",
   "metadata": {},
   "outputs": [
    {
     "data": {
      "text/plain": [
       "' 목적함수 및 제약조건 생성'"
      ]
     },
     "execution_count": 17,
     "metadata": {},
     "output_type": "execute_result"
    }
   ],
   "source": [
    "\"\"\"\"\n",
    "C. 최적화 수행\n",
    "\"\"\"\n",
    "\n",
    "\"\"\" Pyomo INPUTS \"\"\"\n",
    "solver = 'ipopt' # Select solver\n",
    "\n",
    "\"\"\" Pyomo Config \"\"\"\n",
    "# Create the abstract model - 시그마로 표현할 수 있는 모델\n",
    "model = pyo.AbstractModel()\n",
    "\n",
    "# Loaded from csv in ../Data/\n",
    "model.Buses = pyo.Set(dimen=1)\n",
    "\n",
    "\"\"\" 목적함수 및 제약조건 생성\"\"\""
   ]
  },
  {
   "cell_type": "code",
   "execution_count": null,
   "id": "6252df50",
   "metadata": {},
   "outputs": [],
   "source": [
    "\"\"\"\n",
    "D. 결과 출력\n",
    "\"\"\"\n"
   ]
  }
 ],
 "metadata": {
  "kernelspec": {
   "display_name": "py39",
   "language": "python",
   "name": "python3"
  },
  "language_info": {
   "codemirror_mode": {
    "name": "ipython",
    "version": 3
   },
   "file_extension": ".py",
   "mimetype": "text/x-python",
   "name": "python",
   "nbconvert_exporter": "python",
   "pygments_lexer": "ipython3",
   "version": "3.9.21"
  }
 },
 "nbformat": 4,
 "nbformat_minor": 5
}
