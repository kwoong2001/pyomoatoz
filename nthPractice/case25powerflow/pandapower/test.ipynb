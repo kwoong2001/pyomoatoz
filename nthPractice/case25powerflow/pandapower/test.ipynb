{
 "cells": [
  {
   "cell_type": "code",
   "execution_count": 7,
   "id": "5280be8e",
   "metadata": {},
   "outputs": [],
   "source": [
    "from pandapower.networks.create_examples import example_multivoltage\n",
    "import pandapower.networks as ppnets\n",
    "import pandapower.plotting as plt\n",
    "import matplotlib.pyplot as mplt"
   ]
  }
 ],
 "metadata": {
  "kernelspec": {
   "display_name": "pyomo",
   "language": "python",
   "name": "python3"
  },
  "language_info": {
   "codemirror_mode": {
    "name": "ipython",
    "version": 3
   },
   "file_extension": ".py",
   "mimetype": "text/x-python",
   "name": "python",
   "nbconvert_exporter": "python",
   "pygments_lexer": "ipython3",
   "version": "3.10.16"
  }
 },
 "nbformat": 4,
 "nbformat_minor": 5
}
