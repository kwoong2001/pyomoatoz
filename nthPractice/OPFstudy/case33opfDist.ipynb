{
 "cells": [
  {
   "cell_type": "code",
   "execution_count": null,
   "id": "9ef039fb",
   "metadata": {},
   "outputs": [],
   "source": [
    "import numpy as np\n",
    "import pandas as pd\n",
    "import os, sys\n",
    "import pyomo.environ as pyo\n",
    "from pyomo import environ as pym\n",
    "from matpower import start_instance\n",
    "from oct2py import octave\n",
    "\n",
    "m = start_instance()\n",
    "mpc = m.loadcase('case33bw')\n",
    "\n",
    "\n",
    "\n"
   ]
  }
 ],
 "metadata": {
  "kernelspec": {
   "display_name": "py311",
   "language": "python",
   "name": "python3"
  },
  "language_info": {
   "name": "python",
   "version": "3.11.7"
  }
 },
 "nbformat": 4,
 "nbformat_minor": 5
}
