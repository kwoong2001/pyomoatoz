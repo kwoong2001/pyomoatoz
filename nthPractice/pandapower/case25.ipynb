{
 "cells": [
  {
   "cell_type": "code",
   "execution_count": 1,
   "id": "10ec7ab6",
   "metadata": {},
   "outputs": [],
   "source": [
    "import pandas as pd\n",
    "import pandapower as pp\n",
    "import pandapower.networks as ppnets\n",
    "import pandapower.plotting as plt\n",
    "import matplotlib.pyplot as mplt"
   ]
  },
  {
   "cell_type": "code",
   "execution_count": 2,
   "id": "3a2068c0",
   "metadata": {},
   "outputs": [],
   "source": [
    "def read(file_path: str, sheet_name: str):\n",
    "    df = pd.read_excel(file_path, sheet_name=sheet_name, engine='openpyxl')\n",
    "    return df"
   ]
  },
  {
   "cell_type": "code",
   "execution_count": 7,
   "id": "3a7f7d4f",
   "metadata": {},
   "outputs": [],
   "source": [
    "file_path = 'ac_case25.xlsx'\n",
    "\n",
    "BUS = read(file_path, 'bus')\n",
    "GEN = read(file_path, 'generator')\n",
    "TR = read(file_path, 'transformer')\n",
    "LINE = read(file_path, 'branch')\n",
    "BASE = read(file_path, 'param')"
   ]
  },
  {
   "cell_type": "code",
   "execution_count": 9,
   "id": "24b8cc8a",
   "metadata": {},
   "outputs": [
    {
     "name": "stdout",
     "output_type": "stream",
     "text": [
      "    Bus   Type  Pload (MW)  Qload (MVAR)  area  Vm (pu)  Va (degree)  maxVm  \\\n",
      "0     1     PV      108.00         22.00     1        1            0   1.05   \n",
      "1     2     PV       97.00         20.00     1        1            0   1.05   \n",
      "2     3     PQ      207.00         42.55     1        1            0   1.05   \n",
      "3     4     PQ       74.00         15.00     1        1            0   1.05   \n",
      "4     5     PQ       71.00         14.00     1        1            0   1.05   \n",
      "5     6     PQ      136.00         28.00     2        1            0   1.05   \n",
      "6     7     PV      125.00         25.00     2        1            0   1.05   \n",
      "7     8     PQ      136.80         28.00     2        1            0   1.05   \n",
      "8     9     PQ      175.00         36.00     1        1            0   1.05   \n",
      "9    10     PQ      156.00         32.00     2        1            0   1.05   \n",
      "10   11     PQ        0.00          0.00     3        1            0   1.05   \n",
      "11   12     PQ        0.00          0.00     3        1            0   1.05   \n",
      "12   13  Swing      265.00         54.00     3        1            0   1.05   \n",
      "13   14     PV      194.00         39.00     3        1            0   1.05   \n",
      "14   15     PV      253.60         51.20     4        1            0   1.05   \n",
      "15   16     PV      115.00         23.00     4        1            0   1.05   \n",
      "16   17     PQ        0.00          0.00     4        1            0   1.05   \n",
      "17   18     PV      333.00         68.00     4        1            0   1.05   \n",
      "18   19     PQ      208.15         42.55     3        1            0   1.05   \n",
      "19   20     PQ      128.00         26.00     3        1            0   1.05   \n",
      "20   21     PV        0.00          0.00     4        1            0   1.05   \n",
      "21   22     PV        0.00          0.00     4        1            0   1.05   \n",
      "22   23     PV        0.00          0.00     3        1            0   1.05   \n",
      "23   24     PQ        0.00          0.00     4        1            0   1.05   \n",
      "24   25     PQ       30.00          5.00     1        1            0   1.05   \n",
      "\n",
      "    minVm  \n",
      "0    0.95  \n",
      "1    0.95  \n",
      "2    0.95  \n",
      "3    0.95  \n",
      "4    0.95  \n",
      "5    0.95  \n",
      "6    0.95  \n",
      "7    0.95  \n",
      "8    0.95  \n",
      "9    0.95  \n",
      "10   0.95  \n",
      "11   0.95  \n",
      "12   0.95  \n",
      "13   0.95  \n",
      "14   0.95  \n",
      "15   0.95  \n",
      "16   0.95  \n",
      "17   0.95  \n",
      "18   0.95  \n",
      "19   0.95  \n",
      "20   0.95  \n",
      "21   0.95  \n",
      "22   0.95  \n",
      "23   0.95  \n",
      "24   0.95  \n"
     ]
    }
   ],
   "source": [
    "print(BUS)"
   ]
  },
  {
   "cell_type": "code",
   "execution_count": null,
   "id": "78f51d32",
   "metadata": {},
   "outputs": [],
   "source": []
  }
 ],
 "metadata": {
  "kernelspec": {
   "display_name": "pyomo",
   "language": "python",
   "name": "python3"
  },
  "language_info": {
   "codemirror_mode": {
    "name": "ipython",
    "version": 3
   },
   "file_extension": ".py",
   "mimetype": "text/x-python",
   "name": "python",
   "nbconvert_exporter": "python",
   "pygments_lexer": "ipython3",
   "version": "3.10.16"
  }
 },
 "nbformat": 4,
 "nbformat_minor": 5
}
